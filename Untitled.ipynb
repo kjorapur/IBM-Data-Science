{
 "cells": [
  {
   "cell_type": "markdown",
   "id": "b083675d",
   "metadata": {},
   "source": [
    "# My Jupyter Notebook on IBM Watson Studio"
   ]
  },
  {
   "cell_type": "markdown",
   "id": "e0f86a25",
   "metadata": {},
   "source": [
    "**Karthik**  \n",
    "Data Scientist"
   ]
  },
  {
   "cell_type": "markdown",
   "id": "bc3eaa49",
   "metadata": {},
   "source": [
    "*I am interested in data science because of all its possible applications in day to day life, to analyse different kinds of data, and how it can help make predictions and decisions for us.*"
   ]
  },
  {
   "cell_type": "markdown",
   "id": "8cc8beaa",
   "metadata": {},
   "source": [
    "### This code adds 1 + 1"
   ]
  },
  {
   "cell_type": "code",
   "execution_count": 1,
   "id": "903fae5a",
   "metadata": {},
   "outputs": [
    {
     "data": {
      "text/plain": [
       "2"
      ]
     },
     "execution_count": 1,
     "metadata": {},
     "output_type": "execute_result"
    }
   ],
   "source": [
    "1 + 1"
   ]
  },
  {
   "cell_type": "markdown",
   "id": "3293354c",
   "metadata": {},
   "source": [
    "- This\n",
    "- Is\n",
    "- A\n",
    "- Bulleted list\n",
    "\n",
    "1. This\n",
    "2. Is\n",
    "3. A\n",
    "4. Numbered List\n",
    "\n",
    "~~strikethrough text~~"
   ]
  }
 ],
 "metadata": {
  "kernelspec": {
   "display_name": "Python 3",
   "language": "python",
   "name": "python3"
  },
  "language_info": {
   "codemirror_mode": {
    "name": "ipython",
    "version": 3
   },
   "file_extension": ".py",
   "mimetype": "text/x-python",
   "name": "python",
   "nbconvert_exporter": "python",
   "pygments_lexer": "ipython3",
   "version": "3.8.8"
  }
 },
 "nbformat": 4,
 "nbformat_minor": 5
}
